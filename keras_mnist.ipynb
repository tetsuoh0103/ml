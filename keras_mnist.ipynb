{
 "cells": [
  {
   "cell_type": "code",
   "execution_count": 1,
   "metadata": {},
   "outputs": [
    {
     "name": "stderr",
     "output_type": "stream",
     "text": [
      "Using TensorFlow backend.\n"
     ]
    }
   ],
   "source": [
    "import keras\n",
    "from keras.datasets import mnist\n",
    "from keras.models import Sequential\n",
    "from keras.layers import Dense, Dropout\n",
    "from keras.optimizers import RMSprop\n",
    "\n",
    "batch_size = 128\n",
    "num_classes = 10\n",
    "epochs = 20"
   ]
  },
  {
   "cell_type": "code",
   "execution_count": 2,
   "metadata": {},
   "outputs": [],
   "source": [
    "import tensorflow as tf\n",
    "from keras.backend import tensorflow_backend\n",
    "\n",
    "config = tf.compat.v1.ConfigProto(gpu_options=tf.compat.v1.GPUOptions(allow_growth=True))\n",
    "session = tf.compat.v1.Session(config=config)\n",
    "tensorflow_backend.set_session(session)"
   ]
  },
  {
   "cell_type": "code",
   "execution_count": 3,
   "metadata": {},
   "outputs": [],
   "source": [
    "# the data, shuffled and split between train and test sets\n",
    "(x_train, y_train), (x_test, y_test) = mnist.load_data()"
   ]
  },
  {
   "cell_type": "code",
   "execution_count": 4,
   "metadata": {},
   "outputs": [
    {
     "name": "stdout",
     "output_type": "stream",
     "text": [
      "60000 train samples\n",
      "10000 test samples\n"
     ]
    }
   ],
   "source": [
    "x_train = x_train.reshape(60000, 784) # 2次元配列を1次元に変換\n",
    "x_test = x_test.reshape(10000, 784)\n",
    "x_train = x_train.astype('float32')   # int型をfloat32型に変換\n",
    "x_test = x_test.astype('float32')\n",
    "x_train /= 255                        # [0-255]の値を[0.0-1.0]に変換\n",
    "x_test /= 255\n",
    "print(x_train.shape[0], 'train samples')\n",
    "print(x_test.shape[0], 'test samples')\n",
    "\n",
    "# convert class vectors to binary class matrices\n",
    "y_train = keras.utils.to_categorical(y_train, num_classes)\n",
    "y_test = keras.utils.to_categorical(y_test, num_classes)"
   ]
  },
  {
   "cell_type": "code",
   "execution_count": 5,
   "metadata": {},
   "outputs": [
    {
     "name": "stdout",
     "output_type": "stream",
     "text": [
      "Model: \"sequential_1\"\n",
      "_________________________________________________________________\n",
      "Layer (type)                 Output Shape              Param #   \n",
      "=================================================================\n",
      "dense_1 (Dense)              (None, 512)               401920    \n",
      "_________________________________________________________________\n",
      "dropout_1 (Dropout)          (None, 512)               0         \n",
      "_________________________________________________________________\n",
      "dense_2 (Dense)              (None, 512)               262656    \n",
      "_________________________________________________________________\n",
      "dropout_2 (Dropout)          (None, 512)               0         \n",
      "_________________________________________________________________\n",
      "dense_3 (Dense)              (None, 10)                5130      \n",
      "=================================================================\n",
      "Total params: 669,706\n",
      "Trainable params: 669,706\n",
      "Non-trainable params: 0\n",
      "_________________________________________________________________\n"
     ]
    }
   ],
   "source": [
    "model = Sequential()\n",
    "model.add(Dense(512, activation='relu', input_shape=(784,)))\n",
    "model.add(Dropout(0.2))\n",
    "model.add(Dense(512, activation='relu'))\n",
    "model.add(Dropout(0.2))\n",
    "model.add(Dense(10, activation='softmax'))\n",
    "\n",
    "model.summary()\n",
    "model.compile(loss='categorical_crossentropy',\n",
    "              optimizer=RMSprop(),\n",
    "              metrics=['accuracy'])"
   ]
  },
  {
   "cell_type": "code",
   "execution_count": 6,
   "metadata": {},
   "outputs": [
    {
     "name": "stdout",
     "output_type": "stream",
     "text": [
      "WARNING:tensorflow:From C:\\Users\\horig\\Anaconda3\\envs\\rl-book\\lib\\site-packages\\keras\\backend\\tensorflow_backend.py:422: The name tf.global_variables is deprecated. Please use tf.compat.v1.global_variables instead.\n",
      "\n",
      "Train on 60000 samples, validate on 10000 samples\n",
      "Epoch 1/20\n",
      "60000/60000 [==============================] - 4s 61us/step - loss: 0.2433 - accuracy: 0.9248 - val_loss: 0.0961 - val_accuracy: 0.9687\n",
      "Epoch 2/20\n",
      "60000/60000 [==============================] - 4s 59us/step - loss: 0.1031 - accuracy: 0.9685 - val_loss: 0.0778 - val_accuracy: 0.9762\n",
      "Epoch 3/20\n",
      "60000/60000 [==============================] - 4s 60us/step - loss: 0.0728 - accuracy: 0.9777 - val_loss: 0.0790 - val_accuracy: 0.9754\n",
      "Epoch 4/20\n",
      "60000/60000 [==============================] - 4s 61us/step - loss: 0.0627 - accuracy: 0.9808 - val_loss: 0.0659 - val_accuracy: 0.9808\n",
      "Epoch 5/20\n",
      "60000/60000 [==============================] - 4s 60us/step - loss: 0.0475 - accuracy: 0.9858 - val_loss: 0.0743 - val_accuracy: 0.9804\n",
      "Epoch 6/20\n",
      "60000/60000 [==============================] - 4s 64us/step - loss: 0.0421 - accuracy: 0.9874 - val_loss: 0.0829 - val_accuracy: 0.9806\n",
      "Epoch 7/20\n",
      "60000/60000 [==============================] - 4s 62us/step - loss: 0.0391 - accuracy: 0.9885 - val_loss: 0.0962 - val_accuracy: 0.9789\n",
      "Epoch 8/20\n",
      "60000/60000 [==============================] - 4s 62us/step - loss: 0.0332 - accuracy: 0.9904 - val_loss: 0.0835 - val_accuracy: 0.9819\n",
      "Epoch 9/20\n",
      "60000/60000 [==============================] - 4s 60us/step - loss: 0.0311 - accuracy: 0.9910 - val_loss: 0.0826 - val_accuracy: 0.9817\n",
      "Epoch 10/20\n",
      "60000/60000 [==============================] - 4s 59us/step - loss: 0.0289 - accuracy: 0.9918 - val_loss: 0.0884 - val_accuracy: 0.9829\n",
      "Epoch 11/20\n",
      "60000/60000 [==============================] - 4s 60us/step - loss: 0.0245 - accuracy: 0.9927 - val_loss: 0.0906 - val_accuracy: 0.9840\n",
      "Epoch 12/20\n",
      "60000/60000 [==============================] - 4s 63us/step - loss: 0.0227 - accuracy: 0.9938 - val_loss: 0.1048 - val_accuracy: 0.9828\n",
      "Epoch 13/20\n",
      "60000/60000 [==============================] - 4s 63us/step - loss: 0.0242 - accuracy: 0.9932 - val_loss: 0.1066 - val_accuracy: 0.9824\n",
      "Epoch 14/20\n",
      "60000/60000 [==============================] - 4s 60us/step - loss: 0.0194 - accuracy: 0.9943 - val_loss: 0.1065 - val_accuracy: 0.9826\n",
      "Epoch 15/20\n",
      "60000/60000 [==============================] - 4s 59us/step - loss: 0.0189 - accuracy: 0.9947 - val_loss: 0.1031 - val_accuracy: 0.9846\n",
      "Epoch 16/20\n",
      "60000/60000 [==============================] - 4s 59us/step - loss: 0.0192 - accuracy: 0.9947 - val_loss: 0.1065 - val_accuracy: 0.9849\n",
      "Epoch 17/20\n",
      "60000/60000 [==============================] - 4s 60us/step - loss: 0.0177 - accuracy: 0.9952 - val_loss: 0.0986 - val_accuracy: 0.9851\n",
      "Epoch 18/20\n",
      "60000/60000 [==============================] - 4s 59us/step - loss: 0.0173 - accuracy: 0.9953 - val_loss: 0.1162 - val_accuracy: 0.9826\n",
      "Epoch 19/20\n",
      "60000/60000 [==============================] - 4s 59us/step - loss: 0.0164 - accuracy: 0.9955 - val_loss: 0.1253 - val_accuracy: 0.9854\n",
      "Epoch 20/20\n",
      "60000/60000 [==============================] - 3s 55us/step - loss: 0.0199 - accuracy: 0.9947 - val_loss: 0.1407 - val_accuracy: 0.9810\n"
     ]
    }
   ],
   "source": [
    "history = model.fit(x_train, y_train,  # 画像とラベルデータ\n",
    "                    batch_size=batch_size,\n",
    "                    epochs=epochs,     # エポック数の指定\n",
    "                    verbose=1,         # ログ出力の指定. 0だとログが出ない\n",
    "                    validation_data=(x_test, y_test))"
   ]
  },
  {
   "cell_type": "code",
   "execution_count": 7,
   "metadata": {},
   "outputs": [
    {
     "name": "stdout",
     "output_type": "stream",
     "text": [
      "Test loss: 0.14072227934724502\n",
      "Test accuracy: 0.9810000061988831\n"
     ]
    }
   ],
   "source": [
    "score = model.evaluate(x_test, y_test, verbose=0)\n",
    "print('Test loss:', score[0])\n",
    "print('Test accuracy:', score[1])"
   ]
  },
  {
   "cell_type": "code",
   "execution_count": 8,
   "metadata": {},
   "outputs": [
    {
     "data": {
      "text/plain": [
       "[name: \"/device:CPU:0\"\n",
       " device_type: \"CPU\"\n",
       " memory_limit: 268435456\n",
       " locality {\n",
       " }\n",
       " incarnation: 16769244417206598329]"
      ]
     },
     "execution_count": 8,
     "metadata": {},
     "output_type": "execute_result"
    }
   ],
   "source": [
    "from tensorflow.python.client import device_lib\n",
    "device_lib.list_local_devices()"
   ]
  },
  {
   "cell_type": "code",
   "execution_count": null,
   "metadata": {},
   "outputs": [],
   "source": []
  }
 ],
 "metadata": {
  "kernelspec": {
   "display_name": "Python 3",
   "language": "python",
   "name": "python3"
  },
  "language_info": {
   "codemirror_mode": {
    "name": "ipython",
    "version": 3
   },
   "file_extension": ".py",
   "mimetype": "text/x-python",
   "name": "python",
   "nbconvert_exporter": "python",
   "pygments_lexer": "ipython3",
   "version": "3.6.9"
  }
 },
 "nbformat": 4,
 "nbformat_minor": 2
}
