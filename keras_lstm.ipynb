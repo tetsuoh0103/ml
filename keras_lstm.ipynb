{
 "cells": [
  {
   "cell_type": "code",
   "execution_count": 1,
   "metadata": {},
   "outputs": [
    {
     "name": "stderr",
     "output_type": "stream",
     "text": [
      "Using TensorFlow backend.\n"
     ]
    }
   ],
   "source": [
    "from keras.models import Sequential\n",
    "from keras.layers.core import Dense, Activation\n",
    "from keras.layers.recurrent import LSTM\n",
    "from keras.optimizers import Adam\n",
    "from keras.callbacks import EarlyStopping\n",
    "import numpy as np\n",
    "import matplotlib.pyplot as plt\n",
    "import tensorflow as tf\n",
    "from keras.backend import tensorflow_backend\n",
    "\n",
    "config = tf.ConfigProto(gpu_options=tf.GPUOptions(allow_growth=True))\n",
    "session = tf.Session(config=config)\n",
    "tensorflow_backend.set_session(session)"
   ]
  },
  {
   "cell_type": "code",
   "execution_count": 2,
   "metadata": {},
   "outputs": [],
   "source": [
    "def sin(x, T=100):\n",
    "    return np.sin(2.0 * np.pi * x / T)\n",
    "\n",
    "# sin波にノイズを付与する\n",
    "def toy_problem(T=100, ampl=0.05):\n",
    "    x = np.arange(0, 2 * T + 1)\n",
    "    noise = ampl * np.random.uniform(low=-1.0, high=1.0, size=len(x))\n",
    "    return sin(x) + noise\n",
    "\n",
    "f = toy_problem()"
   ]
  },
  {
   "cell_type": "code",
   "execution_count": 3,
   "metadata": {},
   "outputs": [],
   "source": [
    "def make_dataset(low_data, n_prev=100):\n",
    "\n",
    "    data, target = [], []\n",
    "    maxlen = 25\n",
    "\n",
    "    for i in range(len(low_data)-maxlen):\n",
    "        data.append(low_data[i:i + maxlen])\n",
    "        target.append(low_data[i + maxlen])\n",
    "\n",
    "    re_data = np.array(data).reshape(len(data), maxlen, 1)\n",
    "    re_target = np.array(target).reshape(len(data), 1)\n",
    "\n",
    "    return re_data, re_target\n",
    "\n",
    "\n",
    "#g -> 学習データ，h -> 学習ラベル\n",
    "g, h = make_dataset(f)"
   ]
  },
  {
   "cell_type": "code",
   "execution_count": 4,
   "metadata": {},
   "outputs": [
    {
     "name": "stdout",
     "output_type": "stream",
     "text": [
      "WARNING:tensorflow:From C:\\Users\\horig\\Anaconda3\\envs\\keras-gpu\\lib\\site-packages\\keras\\backend\\tensorflow_backend.py:74: The name tf.get_default_graph is deprecated. Please use tf.compat.v1.get_default_graph instead.\n",
      "\n",
      "WARNING:tensorflow:From C:\\Users\\horig\\Anaconda3\\envs\\keras-gpu\\lib\\site-packages\\keras\\backend\\tensorflow_backend.py:517: The name tf.placeholder is deprecated. Please use tf.compat.v1.placeholder instead.\n",
      "\n",
      "WARNING:tensorflow:From C:\\Users\\horig\\Anaconda3\\envs\\keras-gpu\\lib\\site-packages\\keras\\backend\\tensorflow_backend.py:4138: The name tf.random_uniform is deprecated. Please use tf.random.uniform instead.\n",
      "\n",
      "WARNING:tensorflow:From C:\\Users\\horig\\Anaconda3\\envs\\keras-gpu\\lib\\site-packages\\keras\\optimizers.py:790: The name tf.train.Optimizer is deprecated. Please use tf.compat.v1.train.Optimizer instead.\n",
      "\n"
     ]
    }
   ],
   "source": [
    "# モデル構築\n",
    "\n",
    "# 1つの学習データのStep数(今回は25)\n",
    "length_of_sequence = g.shape[1] \n",
    "in_out_neurons = 1\n",
    "n_hidden = 300\n",
    "\n",
    "model = Sequential()\n",
    "model.add(LSTM(n_hidden, batch_input_shape=(None, length_of_sequence, in_out_neurons), return_sequences=False))\n",
    "model.add(Dense(in_out_neurons))\n",
    "model.add(Activation(\"linear\"))\n",
    "optimizer = Adam(lr=0.001)\n",
    "model.compile(loss=\"mean_squared_error\", optimizer=optimizer)"
   ]
  },
  {
   "cell_type": "code",
   "execution_count": 5,
   "metadata": {},
   "outputs": [
    {
     "name": "stdout",
     "output_type": "stream",
     "text": [
      "WARNING:tensorflow:From C:\\Users\\horig\\Anaconda3\\envs\\keras-gpu\\lib\\site-packages\\tensorflow_core\\python\\ops\\math_grad.py:1424: where (from tensorflow.python.ops.array_ops) is deprecated and will be removed in a future version.\n",
      "Instructions for updating:\n",
      "Use tf.where in 2.0, which has the same broadcast rule as np.where\n",
      "WARNING:tensorflow:From C:\\Users\\horig\\Anaconda3\\envs\\keras-gpu\\lib\\site-packages\\keras\\backend\\tensorflow_backend.py:986: The name tf.assign_add is deprecated. Please use tf.compat.v1.assign_add instead.\n",
      "\n",
      "WARNING:tensorflow:From C:\\Users\\horig\\Anaconda3\\envs\\keras-gpu\\lib\\site-packages\\keras\\backend\\tensorflow_backend.py:973: The name tf.assign is deprecated. Please use tf.compat.v1.assign instead.\n",
      "\n",
      "Train on 158 samples, validate on 18 samples\n",
      "Epoch 1/100\n",
      "WARNING:tensorflow:From C:\\Users\\horig\\Anaconda3\\envs\\keras-gpu\\lib\\site-packages\\keras\\backend\\tensorflow_backend.py:174: The name tf.get_default_session is deprecated. Please use tf.compat.v1.get_default_session instead.\n",
      "\n",
      "WARNING:tensorflow:From C:\\Users\\horig\\Anaconda3\\envs\\keras-gpu\\lib\\site-packages\\keras\\backend\\tensorflow_backend.py:190: The name tf.global_variables is deprecated. Please use tf.compat.v1.global_variables instead.\n",
      "\n",
      "WARNING:tensorflow:From C:\\Users\\horig\\Anaconda3\\envs\\keras-gpu\\lib\\site-packages\\keras\\backend\\tensorflow_backend.py:199: The name tf.is_variable_initialized is deprecated. Please use tf.compat.v1.is_variable_initialized instead.\n",
      "\n",
      "WARNING:tensorflow:From C:\\Users\\horig\\Anaconda3\\envs\\keras-gpu\\lib\\site-packages\\keras\\backend\\tensorflow_backend.py:206: The name tf.variables_initializer is deprecated. Please use tf.compat.v1.variables_initializer instead.\n",
      "\n",
      "158/158 [==============================] - 1s 5ms/step - loss: 0.4834 - val_loss: 0.1530\n",
      "Epoch 2/100\n",
      "158/158 [==============================] - 0s 290us/step - loss: 0.3279 - val_loss: 0.0630\n",
      "Epoch 3/100\n",
      "158/158 [==============================] - 0s 259us/step - loss: 0.2065 - val_loss: 0.0327\n",
      "Epoch 4/100\n",
      "158/158 [==============================] - 0s 283us/step - loss: 0.1194 - val_loss: 0.1015\n",
      "Epoch 5/100\n",
      "158/158 [==============================] - 0s 272us/step - loss: 0.0885 - val_loss: 0.2006\n",
      "Epoch 6/100\n",
      "158/158 [==============================] - 0s 270us/step - loss: 0.0973 - val_loss: 0.1663\n",
      "Epoch 7/100\n",
      "158/158 [==============================] - 0s 294us/step - loss: 0.0705 - val_loss: 0.0898\n",
      "Epoch 8/100\n",
      "158/158 [==============================] - 0s 284us/step - loss: 0.0423 - val_loss: 0.0409\n",
      "Epoch 9/100\n",
      "158/158 [==============================] - 0s 290us/step - loss: 0.0325 - val_loss: 0.0204\n",
      "Epoch 10/100\n",
      "158/158 [==============================] - 0s 262us/step - loss: 0.0335 - val_loss: 0.0138\n",
      "Epoch 11/100\n",
      "158/158 [==============================] - 0s 276us/step - loss: 0.0358 - val_loss: 0.0119\n",
      "Epoch 12/100\n",
      "158/158 [==============================] - 0s 272us/step - loss: 0.0347 - val_loss: 0.0107\n",
      "Epoch 13/100\n",
      "158/158 [==============================] - 0s 265us/step - loss: 0.0297 - val_loss: 0.0095\n",
      "Epoch 14/100\n",
      "158/158 [==============================] - 0s 264us/step - loss: 0.0222 - val_loss: 0.0089\n",
      "Epoch 15/100\n",
      "158/158 [==============================] - 0s 280us/step - loss: 0.0150 - val_loss: 0.0105\n",
      "Epoch 16/100\n",
      "158/158 [==============================] - 0s 271us/step - loss: 0.0110 - val_loss: 0.0149\n",
      "Epoch 17/100\n",
      "158/158 [==============================] - 0s 292us/step - loss: 0.0116 - val_loss: 0.0197\n",
      "Epoch 18/100\n",
      "158/158 [==============================] - 0s 271us/step - loss: 0.0126 - val_loss: 0.0197\n",
      "Epoch 19/100\n",
      "158/158 [==============================] - 0s 273us/step - loss: 0.0093 - val_loss: 0.0146\n",
      "Epoch 20/100\n",
      "158/158 [==============================] - 0s 271us/step - loss: 0.0046 - val_loss: 0.0081\n",
      "Epoch 21/100\n",
      "158/158 [==============================] - 0s 280us/step - loss: 0.0029 - val_loss: 0.0035\n",
      "Epoch 22/100\n",
      "158/158 [==============================] - 0s 265us/step - loss: 0.0044 - val_loss: 0.0017\n",
      "Epoch 23/100\n",
      "158/158 [==============================] - 0s 284us/step - loss: 0.0062 - val_loss: 0.0014\n",
      "Epoch 24/100\n",
      "158/158 [==============================] - 0s 284us/step - loss: 0.0064 - val_loss: 0.0014\n",
      "Epoch 25/100\n",
      "158/158 [==============================] - 0s 275us/step - loss: 0.0046 - val_loss: 0.0014\n",
      "Epoch 26/100\n",
      "158/158 [==============================] - 0s 272us/step - loss: 0.0025 - val_loss: 0.0015\n",
      "Epoch 27/100\n",
      "158/158 [==============================] - 0s 259us/step - loss: 0.0020 - val_loss: 0.0020\n",
      "Epoch 28/100\n",
      "158/158 [==============================] - 0s 265us/step - loss: 0.0032 - val_loss: 0.0023\n",
      "Epoch 29/100\n",
      "158/158 [==============================] - 0s 259us/step - loss: 0.0043 - val_loss: 0.0022\n",
      "Epoch 30/100\n",
      "158/158 [==============================] - 0s 281us/step - loss: 0.0041 - val_loss: 0.0025\n",
      "Epoch 31/100\n",
      "158/158 [==============================] - 0s 278us/step - loss: 0.0035 - val_loss: 0.0029\n",
      "Epoch 32/100\n",
      "158/158 [==============================] - 0s 266us/step - loss: 0.0032 - val_loss: 0.0032\n",
      "Epoch 33/100\n",
      "158/158 [==============================] - 0s 278us/step - loss: 0.0030 - val_loss: 0.0030\n",
      "Epoch 34/100\n",
      "158/158 [==============================] - 0s 265us/step - loss: 0.0024 - val_loss: 0.0024\n",
      "Epoch 35/100\n",
      "158/158 [==============================] - 0s 265us/step - loss: 0.0018 - val_loss: 0.0016\n",
      "Epoch 36/100\n",
      "158/158 [==============================] - 0s 265us/step - loss: 0.0017 - val_loss: 0.0011\n",
      "Epoch 37/100\n",
      "158/158 [==============================] - 0s 284us/step - loss: 0.0021 - val_loss: 0.0012\n",
      "Epoch 38/100\n",
      "158/158 [==============================] - 0s 276us/step - loss: 0.0024 - val_loss: 0.0017\n",
      "Epoch 39/100\n",
      "158/158 [==============================] - 0s 265us/step - loss: 0.0023 - val_loss: 0.0022\n",
      "Epoch 40/100\n",
      "158/158 [==============================] - 0s 277us/step - loss: 0.0019 - val_loss: 0.0025\n",
      "Epoch 41/100\n",
      "158/158 [==============================] - 0s 284us/step - loss: 0.0018 - val_loss: 0.0026\n",
      "Epoch 42/100\n",
      "158/158 [==============================] - 0s 268us/step - loss: 0.0019 - val_loss: 0.0024\n",
      "Epoch 43/100\n",
      "158/158 [==============================] - 0s 285us/step - loss: 0.0020 - val_loss: 0.0022\n",
      "Epoch 44/100\n",
      "158/158 [==============================] - 0s 271us/step - loss: 0.0019 - val_loss: 0.0019\n",
      "Epoch 45/100\n",
      "158/158 [==============================] - 0s 264us/step - loss: 0.0017 - val_loss: 0.0017\n",
      "Epoch 46/100\n",
      "158/158 [==============================] - 0s 265us/step - loss: 0.0016 - val_loss: 0.0015\n",
      "Epoch 47/100\n",
      "158/158 [==============================] - 0s 271us/step - loss: 0.0015 - val_loss: 0.0013\n",
      "Epoch 48/100\n",
      "158/158 [==============================] - 0s 278us/step - loss: 0.0015 - val_loss: 0.0011\n",
      "Epoch 49/100\n",
      "158/158 [==============================] - 0s 265us/step - loss: 0.0014 - val_loss: 0.0012\n",
      "Epoch 50/100\n",
      "158/158 [==============================] - 0s 271us/step - loss: 0.0014 - val_loss: 0.0014\n",
      "Epoch 51/100\n",
      "158/158 [==============================] - 0s 278us/step - loss: 0.0014 - val_loss: 0.0015\n",
      "Epoch 52/100\n",
      "158/158 [==============================] - 0s 263us/step - loss: 0.0015 - val_loss: 0.0015\n",
      "Epoch 53/100\n",
      "158/158 [==============================] - 0s 271us/step - loss: 0.0015 - val_loss: 0.0013\n",
      "Epoch 54/100\n",
      "158/158 [==============================] - 0s 288us/step - loss: 0.0014 - val_loss: 0.0012\n",
      "Epoch 55/100\n",
      "158/158 [==============================] - 0s 287us/step - loss: 0.0013 - val_loss: 0.0012\n",
      "Epoch 56/100\n",
      "158/158 [==============================] - 0s 291us/step - loss: 0.0013 - val_loss: 0.0013\n"
     ]
    },
    {
     "data": {
      "text/plain": [
       "<keras.callbacks.History at 0x2635c8b7cf8>"
      ]
     },
     "execution_count": 5,
     "metadata": {},
     "output_type": "execute_result"
    }
   ],
   "source": [
    "early_stopping = EarlyStopping(monitor='val_loss', mode='auto', patience=20)\n",
    "model.fit(g, h,\n",
    "          batch_size=300,\n",
    "          epochs=100,\n",
    "          validation_split=0.1,\n",
    "          callbacks=[early_stopping]\n",
    "          )"
   ]
  },
  {
   "cell_type": "code",
   "execution_count": 6,
   "metadata": {},
   "outputs": [],
   "source": [
    "predicted = model.predict(g)"
   ]
  },
  {
   "cell_type": "code",
   "execution_count": 7,
   "metadata": {
    "scrolled": true
   },
   "outputs": [
    {
     "data": {
      "image/png": "[encoded data removed]",
      "text/plain": [
       "<Figure size 432x288 with 1 Axes>"
      ]
     },
     "metadata": {
      "needs_background": "light"
     },
     "output_type": "display_data"
    }
   ],
   "source": [
    "plt.figure()\n",
    "plt.plot(range(25,len(predicted)+25),predicted, color=\"r\", label=\"predict_data\")\n",
    "plt.plot(range(0, len(f)), f, color=\"b\", label=\"row_data\")\n",
    "plt.legend()\n",
    "plt.show()"
   ]
  },
  {
   "cell_type": "markdown",
   "metadata": {},
   "source": [
    "### The following part for future prediction is under construction."
   ]
  },
  {
   "cell_type": "code",
   "execution_count": 13,
   "metadata": {},
   "outputs": [],
   "source": [
    "function = toy_problem(T=100)\n",
    "data, label = make_dataset(function)\n",
    "future_test = data[175].T"
   ]
  },
  {
   "cell_type": "code",
   "execution_count": 14,
   "metadata": {},
   "outputs": [
    {
     "data": {
      "image/png": "[encoded data removed]",
      "text/plain": [
       "<Figure size 432x288 with 1 Axes>"
      ]
     },
     "metadata": {
      "needs_background": "light"
     },
     "output_type": "display_data"
    }
   ],
   "source": [
    "# 1つの学習データの時間の長さ -> 25\n",
    "\n",
    "time_length = future_test.shape[1]\n",
    "# 未来の予測データを保存していく変数\n",
    "future_result = np.empty((1))\n",
    "\n",
    "# 未来予想\n",
    "for step2 in range(400):\n",
    "\n",
    "    test_data = np.reshape(future_test, (1, time_length, 1))\n",
    "    batch_predict = model.predict(test_data)\n",
    "\n",
    "    future_test = np.delete(future_test, 0)\n",
    "    future_test = np.append(future_test, batch_predict)\n",
    "\n",
    "    future_result = np.append(future_result, batch_predict)\n",
    "\n",
    "\n",
    "# sin波をプロット\n",
    "plt.figure()\n",
    "plt.plot(range(25,len(predicted)+25),predicted, color=\"r\", label=\"predict_data\")\n",
    "plt.plot(range(0, len(f)), f, color=\"b\", label=\"row_data\")\n",
    "plt.plot(range(0+len(f), len(future_result)+len(f)), future_result, color=\"g\", label=\"future_predict\")\n",
    "plt.legend()\n",
    "plt.show()"
   ]
  },
  {
   "cell_type": "code",
   "execution_count": null,
   "metadata": {},
   "outputs": [],
   "source": []
  }
 ],
 "metadata": {
  "kernelspec": {
   "display_name": "Python 3",
   "language": "python",
   "name": "python3"
  },
  "language_info": {
   "codemirror_mode": {
    "name": "ipython",
    "version": 3
   },
   "file_extension": ".py",
   "mimetype": "text/x-python",
   "name": "python",
   "nbconvert_exporter": "python",
   "pygments_lexer": "ipython3",
   "version": "3.6.9"
  }
 },
 "nbformat": 4,
 "nbformat_minor": 2
}
